{
 "cells": [
  {
   "cell_type": "markdown",
   "id": "b0661f8b",
   "metadata": {},
   "source": [
    "##### Jahnavi Pakanati-9013742\n",
    "##### Reinforcement Learning-CSCN8020\n",
    "##### Assignment-2"
   ]
  },
  {
   "cell_type": "markdown",
   "id": "34484288",
   "metadata": {},
   "source": [
    "##### Importing the required libraries "
   ]
  },
  {
   "cell_type": "code",
   "execution_count": 1,
   "id": "5fa92ff0",
   "metadata": {},
   "outputs": [],
   "source": [
    "import importlib, assignment2_utils  # this imports the OLD cached version\n",
    "importlib.reload(assignment2_utils)  # this forces Python to re-read the file you just saved\n",
    "from assignment2_utils import describe_env\n"
   ]
  },
  {
   "cell_type": "markdown",
   "id": "b37c6c0c",
   "metadata": {},
   "source": [
    "##### Checking the values "
   ]
  },
  {
   "cell_type": "code",
   "execution_count": 2,
   "id": "3cd7345d",
   "metadata": {},
   "outputs": [
    {
     "name": "stdout",
     "output_type": "stream",
     "text": [
      "Observation space: Discrete(500)\n",
      "Number of states: 500\n",
      "Action space: Discrete(6)\n",
      "Number of actions: 6\n",
      "Reward range: (-10, 20)\n",
      "Action descriptions: {0: 'Move south (down)', 1: 'Move north (up)', 2: 'Move east (right)', 3: 'Move west (left)', 4: 'Pick up passenger', 5: 'Drop off passenger'}\n"
     ]
    }
   ],
   "source": [
    "import gymnasium as gym\n",
    "from assignment2_utils import describe_env\n",
    "\n",
    "env = gym.make(\"Taxi-v3\")\n",
    "_ = describe_env(env)\n"
   ]
  },
  {
   "cell_type": "markdown",
   "id": "2860fa34",
   "metadata": {},
   "source": [
    "### Step 2 — Write a minimal Q-Learning agent in tabular form"
   ]
  },
  {
   "cell_type": "markdown",
   "id": "5007cabc",
   "metadata": {},
   "source": [
    "##### This code implements a Q-learning agent that learns optimal actions through trial and error in a Gym environment.  \n",
    "##### It updates a Q-table based on rewards using the Bellman equation and balances exploration (random actions) with exploitation (best actions).  \n",
    "##### Over many episodes, it tracks total rewards, steps, and performance improvement using a moving average.\n"
   ]
  },
  {
   "cell_type": "code",
   "execution_count": 3,
   "id": "a22c346f",
   "metadata": {},
   "outputs": [
    {
     "name": "stdout",
     "output_type": "stream",
     "text": [
      " QAgent + run_training are defined and ready.\n"
     ]
    }
   ],
   "source": [
    "import numpy as np\n",
    "import gymnasium as gym\n",
    "from typing import Tuple\n",
    "from dataclasses import dataclass\n",
    "\n",
    "@dataclass\n",
    "class QConfig:\n",
    "    alpha: float = 0.1        # learning rate\n",
    "    gamma: float = 0.9        # discount factor\n",
    "    epsilon: float = 0.1      # exploration rate\n",
    "    episodes: int = 5000\n",
    "    max_steps: int = 200      # per episode cap\n",
    "\n",
    "class QAgent:\n",
    "    def __init__(self, n_states: int, n_actions: int, cfg: QConfig):\n",
    "        self.n_states = n_states\n",
    "        self.n_actions = n_actions\n",
    "        self.cfg = cfg\n",
    "        self.Q = np.zeros((n_states, n_actions), dtype=np.float32)\n",
    "\n",
    "    def select_action(self, state: int) -> int:\n",
    "        if np.random.rand() < self.cfg.epsilon:\n",
    "            return np.random.randint(self.n_actions)\n",
    "        return int(np.argmax(self.Q[state]))\n",
    "\n",
    "    def update(self, s: int, a: int, r: float, s2: int):\n",
    "        best_next = np.max(self.Q[s2])\n",
    "        td_target = r + self.cfg.gamma * best_next\n",
    "        td_error = td_target - self.Q[s, a]\n",
    "        self.Q[s, a] += self.cfg.alpha * td_error\n",
    "\n",
    "def run_training(env: gym.Env, agent: QAgent) -> Tuple[list, list, list]:\n",
    "    episode_returns = []\n",
    "    episode_steps = []\n",
    "    moving_avg = []\n",
    "\n",
    "    for ep in range(agent.cfg.episodes):\n",
    "        state, info = env.reset()\n",
    "        done = False\n",
    "        total_reward = 0.0\n",
    "        steps = 0\n",
    "\n",
    "        for t in range(agent.cfg.max_steps):\n",
    "            a = agent.select_action(state)\n",
    "            next_state, reward, terminated, truncated, info = env.step(a)\n",
    "            done = terminated or truncated\n",
    "\n",
    "            agent.update(state, a, reward, next_state)\n",
    "\n",
    "            state = next_state\n",
    "            total_reward += reward\n",
    "            steps += 1\n",
    "            if done:\n",
    "                break\n",
    "\n",
    "        episode_returns.append(total_reward)\n",
    "        episode_steps.append(steps)\n",
    "        # simple moving average (window 100)\n",
    "        window = 100\n",
    "        avg = np.mean(episode_returns[-window:]) if len(episode_returns) >= window else np.mean(episode_returns)\n",
    "        moving_avg.append(avg)\n",
    "\n",
    "    return episode_returns, episode_steps, moving_avg\n",
    "print(\" QAgent + run_training are defined and ready.\")"
   ]
  },
  {
   "cell_type": "markdown",
   "id": "4a78f965",
   "metadata": {},
   "source": [
    "##### This code trains the Q-learning agent on the Taxi-v3 environment for 10 quick episodes.  \n",
    "##### It initializes the environment, runs training to update the Q-table, and then plots the episode rewards to visualize the agent’s performance.  \n",
    "##### The print statements display states, actions, and learning progress during this short test run.\n"
   ]
  },
  {
   "cell_type": "code",
   "execution_count": 4,
   "id": "290c6927",
   "metadata": {},
   "outputs": [
    {
     "name": "stdout",
     "output_type": "stream",
     "text": [
      "States: 500 Actions: 6\n",
      "Episode returns: [-298.0, -235.0, -271.0, -244.0, -262.0, -280.0, -262.0, -244.0, -253.0, -307.0]\n",
      "Episode steps:   [100, 100, 100, 100, 100, 100, 100, 100, 100, 100]\n",
      "Final moving avg: -265.6\n"
     ]
    },
    {
     "data": {
      "image/png": "[encoded data removed]",
      "text/plain": [
       "<Figure size 640x480 with 1 Axes>"
      ]
     },
     "metadata": {},
     "output_type": "display_data"
    }
   ],
   "source": [
    "import gymnasium as gym\n",
    "import numpy as np\n",
    "import matplotlib.pyplot as plt\n",
    "\n",
    "# Make env\n",
    "env = gym.make(\"Taxi-v3\")\n",
    "\n",
    "# Sizes\n",
    "n_states = env.observation_space.n\n",
    "n_actions = env.action_space.n\n",
    "print(\"States:\", n_states, \"Actions:\", n_actions)\n",
    "\n",
    "# Quick 10-episode training so you see output immediately\n",
    "base_cfg = QConfig(alpha=0.1, gamma=0.9, epsilon=0.1, episodes=10, max_steps=100)\n",
    "agent = QAgent(n_states, n_actions, base_cfg)\n",
    "returns, steps, ma = run_training(env, agent)\n",
    "\n",
    "print(\"Episode returns:\", returns)\n",
    "print(\"Episode steps:  \", steps)\n",
    "print(\"Final moving avg:\", ma[-1])\n",
    "\n",
    "# Quick plots (these should pop below the cell)\n",
    "plt.figure()\n",
    "plt.plot(returns)\n",
    "plt.title(\"Return per Episode (10-episode smoke test)\")\n",
    "plt.xlabel(\"Episode\"); plt.ylabel(\"Return\")\n",
    "plt.show()\n"
   ]
  }
 ],
 "metadata": {
  "kernelspec": {
   "display_name": "Python 3",
   "language": "python",
   "name": "python3"
  },
  "language_info": {
   "codemirror_mode": {
    "name": "ipython",
    "version": 3
   },
   "file_extension": ".py",
   "mimetype": "text/x-python",
   "name": "python",
   "nbconvert_exporter": "python",
   "pygments_lexer": "ipython3",
   "version": "3.11.9"
  }
 },
 "nbformat": 4,
 "nbformat_minor": 5
}
