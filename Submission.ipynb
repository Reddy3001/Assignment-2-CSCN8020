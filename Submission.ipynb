{
 "cells": [
  {
   "cell_type": "markdown",
   "id": "b0661f8b",
   "metadata": {},
   "source": [
    "##### Jahnavi Pakanati-9013742\n",
    "##### Reinforcement Learning-CSCN8020\n",
    "##### Assignment-2"
   ]
  },
  {
   "cell_type": "markdown",
   "id": "34484288",
   "metadata": {},
   "source": [
    "##### Importing the required libraries "
   ]
  },
  {
   "cell_type": "code",
   "execution_count": 1,
   "id": "5fa92ff0",
   "metadata": {},
   "outputs": [],
   "source": [
    "import importlib, assignment2_utils  # this imports the OLD cached version\n",
    "importlib.reload(assignment2_utils)  # this forces Python to re-read the file you just saved\n",
    "from assignment2_utils import describe_env\n"
   ]
  },
  {
   "cell_type": "markdown",
   "id": "b37c6c0c",
   "metadata": {},
   "source": [
    "##### Checking the values "
   ]
  },
  {
   "cell_type": "code",
   "execution_count": 2,
   "id": "3cd7345d",
   "metadata": {},
   "outputs": [
    {
     "name": "stdout",
     "output_type": "stream",
     "text": [
      "Observation space: Discrete(500)\n",
      "Number of states: 500\n",
      "Action space: Discrete(6)\n",
      "Number of actions: 6\n",
      "Reward range: (-10, 20)\n",
      "Action descriptions: {0: 'Move south (down)', 1: 'Move north (up)', 2: 'Move east (right)', 3: 'Move west (left)', 4: 'Pick up passenger', 5: 'Drop off passenger'}\n"
     ]
    }
   ],
   "source": [
    "import gymnasium as gym\n",
    "from assignment2_utils import describe_env\n",
    "\n",
    "env = gym.make(\"Taxi-v3\")\n",
    "_ = describe_env(env)\n"
   ]
  }
 ],
 "metadata": {
  "kernelspec": {
   "display_name": "Python 3",
   "language": "python",
   "name": "python3"
  },
  "language_info": {
   "codemirror_mode": {
    "name": "ipython",
    "version": 3
   },
   "file_extension": ".py",
   "mimetype": "text/x-python",
   "name": "python",
   "nbconvert_exporter": "python",
   "pygments_lexer": "ipython3",
   "version": "3.11.9"
  }
 },
 "nbformat": 4,
 "nbformat_minor": 5
}
